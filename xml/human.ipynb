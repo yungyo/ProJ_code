{
 "cells": [
  {
   "cell_type": "code",
   "execution_count": 15,
   "metadata": {},
   "outputs": [],
   "source": [
    "import os\n",
    "import xml.etree.ElementTree as ET"
   ]
  },
  {
   "cell_type": "code",
   "execution_count": 33,
   "metadata": {
    "scrolled": false
   },
   "outputs": [
    {
     "name": "stdout",
     "output_type": "stream",
     "text": [
      "[1]MD_1.xml[success]\n",
      "[2]MD_10.xml[success]\n",
      "[3]MD_11.xml[success]\n",
      "[4]MD_17.xml[success]\n",
      "[5]MD_19.xml[success]\n",
      "[6]MD_20.xml[success]\n",
      "[7]MD_21.xml[success]\n",
      "[8]MD_23.xml[success]\n",
      "[9]MD_24.xml[success]\n",
      "[10]MD_25.xml[success]\n",
      "[11]MD_26.xml[success]\n",
      "[12]MD_27.xml[success]\n",
      "[13]MD_28.xml[success]\n",
      "[14]MD_29.xml[success]\n",
      "[15]MD_3.xml[success]\n",
      "[16]MD_30.xml[success]\n",
      "[17]MD_31.xml[success]\n",
      "[18]MD_32.xml[success]\n",
      "[19]MD_33.xml[success]\n",
      "[20]MD_34.xml[success]\n",
      "[21]MD_36.xml[success]\n",
      "[22]MD_37.xml[success]\n",
      "[23]MD_38.xml[success]\n",
      "[24]MD_39.xml[success]\n",
      "[25]MD_40.xml[success]\n",
      "[26]MD_41.xml[success]\n",
      "[27]MD_42.xml[success]\n",
      "[28]MD_43.xml[success]\n",
      "[29]MD_44.xml[success]\n",
      "[30]MD_45.xml[success]\n",
      "[31]MD_46.xml[success]\n",
      "[32]MD_47.xml[success]\n",
      "[33]MD_48.xml[success]\n",
      "[34]MD_49.xml[success]\n",
      "[35]MD_5.xml[success]\n",
      "finished\n"
     ]
    }
   ],
   "source": [
    "## 첫번째만 고치는 법\n",
    "\n",
    "indir = 'C:/Users/BORAM/Desktop/윤교/캡디2020/sample_xml'\n",
    "outdir = 'C:/Users/BORAM/Desktop/윤교/캡디2020/human_xml_first'\n",
    "num = 1\n",
    "\n",
    "#indir에서 .xml파일 이름들 리스트로 가져오기\n",
    "file_list = os.listdir(indir)\n",
    "xml_list = []\n",
    "for file in file_list :\n",
    "    if '.xml' in file :\n",
    "        xml_list.append(file)\n",
    "        \n",
    "#모든 .xml파일에 대해 수정\n",
    "#xml_list의 모든 xml파일에 반복\n",
    "for xml_file in xml_list :\n",
    "    target_path = indir + \"/\" + xml_file #폴더 안에 xml_file의 경로\n",
    "    targetXML = open(target_path, 'rt', encoding='UTF8')\n",
    "    \n",
    "    tree = ET.parse(targetXML) #파일 가져오기(parse)\n",
    "    root = tree.getroot()\n",
    "    \n",
    "    #수정할 부분 경로 찾기. 첫번째 경로들만 뽑아져 나온다.\n",
    "    target_tag = root.find(\"object\").find(\"name\")\n",
    "    \n",
    "    original = target_tag.text #원본\n",
    "    target_tag.text = \"human\"  #text 변경\n",
    "    \n",
    "    print(\"[\" + str(num) +\"]\" + xml_file + \"[success]\")\n",
    "    \n",
    "    end_path = outdir + \"/\" + xml_file\n",
    "    tree.write(end_path)\n",
    "    num += 1\n",
    "    \n",
    "print(\"finished\")"
   ]
  },
  {
   "cell_type": "code",
   "execution_count": 34,
   "metadata": {
    "scrolled": false
   },
   "outputs": [
    {
     "name": "stdout",
     "output_type": "stream",
     "text": [
      "[1]MD_1.xml[success]\n",
      "[2]MD_10.xml[success]\n",
      "[3]MD_11.xml[success]\n",
      "[4]MD_17.xml[success]\n",
      "[5]MD_19.xml[success]\n",
      "[6]MD_20.xml[success]\n",
      "[7]MD_21.xml[success]\n",
      "[8]MD_23.xml[success]\n",
      "[9]MD_24.xml[success]\n",
      "[10]MD_25.xml[success]\n",
      "[11]MD_26.xml[success]\n",
      "[12]MD_27.xml[success]\n",
      "[13]MD_28.xml[success]\n",
      "[14]MD_29.xml[success]\n",
      "[15]MD_3.xml[success]\n",
      "[16]MD_30.xml[success]\n",
      "[17]MD_31.xml[success]\n",
      "[18]MD_32.xml[success]\n",
      "[19]MD_33.xml[success]\n",
      "[20]MD_34.xml[success]\n",
      "[21]MD_36.xml[success]\n",
      "[22]MD_37.xml[success]\n",
      "[23]MD_38.xml[success]\n",
      "[24]MD_39.xml[success]\n",
      "[25]MD_40.xml[success]\n",
      "[26]MD_41.xml[success]\n",
      "[27]MD_42.xml[success]\n",
      "[28]MD_43.xml[success]\n",
      "[29]MD_44.xml[success]\n",
      "[30]MD_45.xml[success]\n",
      "[31]MD_46.xml[success]\n",
      "[32]MD_47.xml[success]\n",
      "[33]MD_48.xml[success]\n",
      "[34]MD_49.xml[success]\n",
      "[35]MD_5.xml[success]\n",
      "finished\n"
     ]
    }
   ],
   "source": [
    "#전체 고치는 법\n",
    "\n",
    "indir = 'C:/Users/BORAM/Desktop/윤교/캡디2020/sample_xml'\n",
    "outdir = 'C:/Users/BORAM/Desktop/윤교/캡디2020/human_xml'\n",
    "num = 1\n",
    "\n",
    "#indir에서 .xml파일 이름들 리스트로 가져오기\n",
    "file_list = os.listdir(indir)\n",
    "xml_list = []\n",
    "for file in file_list :\n",
    "    if '.xml' in file :\n",
    "        xml_list.append(file)\n",
    "\n",
    "#모든 .xml파일에 대해 수정\n",
    "#xml_list의 모든 xml파일에 반복\n",
    "for xml_file in xml_list :\n",
    "    target_path = indir + \"/\" + xml_file #폴더 안에 xml_file의 경로\n",
    "    targetXML = open(target_path, 'rt', encoding='UTF8')\n",
    "    \n",
    "    tree = ET.parse(targetXML) #파일 가져오기(parse)\n",
    "    root = tree.getroot()\n",
    "    \n",
    "    #전체 태그를 선택하여(iter) 반복문으로 값들 컨트롤\n",
    "    for object in root.iter(\"object\") : \n",
    "        target_tag = object.find(\"name\")\n",
    "        \n",
    "        original = target_tag.text #원본\n",
    "        target_tag.text = \"human\"  #text 변경\n",
    "    \n",
    "    print(\"[\" + str(num) +\"]\" + xml_file + \"[success]\")\n",
    "    \n",
    "    end_path = outdir + \"/\" + xml_file\n",
    "    tree.write(end_path)\n",
    "    num += 1\n",
    "\n",
    "print(\"finished\")"
   ]
  },
  {
   "cell_type": "code",
   "execution_count": 31,
   "metadata": {},
   "outputs": [
    {
     "name": "stdout",
     "output_type": "stream",
     "text": [
      "PET\n"
     ]
    }
   ],
   "source": [
    "for object in root.iter(\"object\") : print(object.find(\"name\").text)"
   ]
  },
  {
   "cell_type": "code",
   "execution_count": 57,
   "metadata": {},
   "outputs": [],
   "source": [
    "for xml_file in xml_list :\n",
    "    target_path = indir + \"/\" + xml_file\n",
    "    targetXML = open(target_path, 'rt', encoding='UTF8')"
   ]
  },
  {
   "cell_type": "code",
   "execution_count": 59,
   "metadata": {},
   "outputs": [
    {
     "data": {
      "text/plain": [
       "'C:/Users/BORAM/Desktop/윤교/캡디2020/sample_xml/MD_5.xml'"
      ]
     },
     "execution_count": 59,
     "metadata": {},
     "output_type": "execute_result"
    }
   ],
   "source": [
    "target_path"
   ]
  },
  {
   "cell_type": "code",
   "execution_count": 60,
   "metadata": {},
   "outputs": [],
   "source": [
    "tree = ET.parse(targetXML)\n",
    "root = tree.getroot()"
   ]
  },
  {
   "cell_type": "code",
   "execution_count": 62,
   "metadata": {},
   "outputs": [
    {
     "data": {
      "text/plain": [
       "(<xml.etree.ElementTree.ElementTree at 0x23afcc37608>,\n",
       " <Element 'annotation' at 0x0000023AFCC6AC28>)"
      ]
     },
     "execution_count": 62,
     "metadata": {},
     "output_type": "execute_result"
    }
   ],
   "source": [
    "tree, root"
   ]
  },
  {
   "cell_type": "code",
   "execution_count": 63,
   "metadata": {},
   "outputs": [],
   "source": [
    "target_tag = root.find(\"object\").find(\"name\")\n",
    "    \n",
    "original = target_tag.text #원본\n",
    "target_tag.text = \"human\""
   ]
  },
  {
   "cell_type": "code",
   "execution_count": 64,
   "metadata": {
    "scrolled": true
   },
   "outputs": [
    {
     "data": {
      "text/plain": [
       "<Element 'name' at 0x0000023AFCC6A728>"
      ]
     },
     "execution_count": 64,
     "metadata": {},
     "output_type": "execute_result"
    }
   ],
   "source": [
    "target_tag"
   ]
  },
  {
   "cell_type": "code",
   "execution_count": 65,
   "metadata": {
    "scrolled": true
   },
   "outputs": [
    {
     "data": {
      "text/plain": [
       "'human'"
      ]
     },
     "execution_count": 65,
     "metadata": {},
     "output_type": "execute_result"
    }
   ],
   "source": [
    "original"
   ]
  },
  {
   "cell_type": "markdown",
   "metadata": {},
   "source": [
    "참고한 홈페이지\n",
    "1. https://skkim1080.tistory.com/entry/Python%EC%9C%BC%EB%A1%9C-xml-%ED%8C%8C%EC%9D%BC-%EB%82%B4%EC%9A%A9-%EC%88%98%EC%A0%95%ED%95%98%EA%B8%B0\n",
    "2. http://egloos.zum.com/sweeper/v/3045370\n",
    "3. https://lee-mandu.tistory.com/519"
   ]
  }
 ],
 "metadata": {
  "kernelspec": {
   "display_name": "Python 3",
   "language": "python",
   "name": "python3"
  },
  "language_info": {
   "codemirror_mode": {
    "name": "ipython",
    "version": 3
   },
   "file_extension": ".py",
   "mimetype": "text/x-python",
   "name": "python",
   "nbconvert_exporter": "python",
   "pygments_lexer": "ipython3",
   "version": "3.8.3"
  }
 },
 "nbformat": 4,
 "nbformat_minor": 4
}
