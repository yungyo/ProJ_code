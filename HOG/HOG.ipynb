{
 "cells": [
  {
   "cell_type": "markdown",
   "metadata": {},
   "source": [
    "1 img"
   ]
  },
  {
   "cell_type": "code",
   "execution_count": 1,
   "metadata": {},
   "outputs": [
    {
     "data": {
      "text/plain": [
       "True"
      ]
     },
     "execution_count": 1,
     "metadata": {},
     "output_type": "execute_result"
    }
   ],
   "source": [
    "import cv2\n",
    "from matplotlib import pyplot as plt\n",
    "\n",
    "hog = cv2.HOGDescriptor()\n",
    "hog.setSVMDetector(cv2.HOGDescriptor_getDefaultPeopleDetector())\n",
    "\n",
    "src = cv2.imread(\"D:\\\\dbsry2021\\\\testimg-hog.jpg\")\n",
    "detected, _ = hog.detectMultiScale(src)\n",
    "\n",
    "for (x,y,w,h) in detected:\n",
    "    cv2.rectangle(src,(x,y),(x+w,y+h),(50,200,50),3)\n",
    "    \n",
    "cv2.imwrite(\"D:\\\\dbsry2021\\\\testimg-hog-end.jpg\",src)\n",
    "    "
   ]
  },
  {
   "cell_type": "markdown",
   "metadata": {},
   "source": [
    "many img"
   ]
  },
  {
   "cell_type": "code",
   "execution_count": 1,
   "metadata": {},
   "outputs": [
    {
     "name": "stdout",
     "output_type": "stream",
     "text": [
      "finish\n"
     ]
    }
   ],
   "source": [
    "# 여러 이미지에서 인물을 인식하는 코드\n",
    "\n",
    "import os\n",
    "import cv2\n",
    "from matplotlib import pyplot as plt\n",
    "\n",
    "# HOG 검출기로 사람을 검출하기 위해서 set\n",
    "hog = cv2.HOGDescriptor()\n",
    "hog.setSVMDetector(cv2.HOGDescriptor_getDefaultPeopleDetector())\n",
    "\n",
    "indir = 'D:/dbsry2021/capd_git/ProJ_code/YOLOv5/testimg'\n",
    "outdir = 'D:/dbsry2021/capd_git/ProJ_code/HOG/detect'\n",
    "\n",
    "#indir에서 .jpg 파일 이름들 리스트로 가져오기\n",
    "file_list = os.listdir(indir)\n",
    "files = [] #비어있는 리스트\n",
    "for file in file_list :\n",
    "    if '.jpg' in file :\n",
    "        files.append(file)\n",
    "        \n",
    "for f in files:\n",
    "    target_path = indir + \"/\" + f #폴더 안에 jpg_file의 경로\n",
    "    img=cv2.imread(target_path)\n",
    "    detected, _ = hog.detectMultiScale(img) #원본 이미지에서 사람으로 판단되는 부분의 좌표를 저장\n",
    "    \n",
    "    # 해당 영역에 사각형 그리기 \n",
    "    for (x,y,w,h) in detected:\n",
    "        cv2.rectangle(img,(x,y),(x+w,y+h),(50,200,50),3)\n",
    "    \n",
    "    # 결과 이미지 저장\n",
    "    end_path = outdir + '/' + f    \n",
    "    cv2.imwrite(end_path, img)\n",
    "    \n",
    "print('finish')"
   ]
  }
 ],
 "metadata": {
  "kernelspec": {
   "display_name": "Python 3",
   "language": "python",
   "name": "python3"
  },
  "language_info": {
   "codemirror_mode": {
    "name": "ipython",
    "version": 3
   },
   "file_extension": ".py",
   "mimetype": "text/x-python",
   "name": "python",
   "nbconvert_exporter": "python",
   "pygments_lexer": "ipython3",
   "version": "3.8.3"
  }
 },
 "nbformat": 4,
 "nbformat_minor": 4
}
